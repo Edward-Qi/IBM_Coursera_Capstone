{
    "cells": [
        {
            "cell_type": "markdown",
            "metadata": {
                "collapsed": true
            },
            "source": "# Analysis of Vancouver  \nEdward Qi  \nApril 3rd 2021"
        },
        {
            "cell_type": "markdown",
            "metadata": {},
            "source": "## 1. Introduction  \nVancouver is one of Canada's largest cities with many neighbourhoods. It's booming economy attract people of various cultural and socioeconomic backgrounds.   \nThe goal of this project is analyze the differences between neighbourhoods and help people determine if a neighbourhood is the right fit.  \n"
        },
        {
            "cell_type": "markdown",
            "metadata": {},
            "source": "## 2. Business Problem  \nPeople moving to Vancouver must choose a neighbourhood to live. This project will help narrow down which neighbourhood would be the best fit.  \nTourist may also find this useful as they can examine which neighbourhood have the attractions they wish to visit.\n"
        },
        {
            "cell_type": "markdown",
            "metadata": {},
            "source": "## 3. Data  \nUsing the Foursquare API and Wikipedia, we gather a dataset similar to that of week 3 of the IBM Coursera Capstone Project.  \nFoursquare will provide venue data while wikipedia will provide postal code, city and neighbourhood. \n\n### Wikipedia Data\nThe Wikipedia data was scraped from https://en.wikipedia.org/wiki/List_of_postal_codes_of_Canada:_V\n"
        }
    ],
    "metadata": {
        "kernelspec": {
            "display_name": "Python 3.7",
            "language": "python",
            "name": "python3"
        },
        "language_info": {
            "codemirror_mode": {
                "name": "ipython",
                "version": 3
            },
            "file_extension": ".py",
            "mimetype": "text/x-python",
            "name": "python",
            "nbconvert_exporter": "python",
            "pygments_lexer": "ipython3",
            "version": "3.7.10"
        }
    },
    "nbformat": 4,
    "nbformat_minor": 1
}