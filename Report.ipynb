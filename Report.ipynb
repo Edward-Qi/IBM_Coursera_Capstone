{
    "cells": [
        {
            "cell_type": "markdown",
            "metadata": {
                "collapsed": true
            },
            "source": "# Analysis of Vancouver  Neighbourhoods\nEdward Qi  \nApril 3rd 2021"
        },
        {
            "cell_type": "markdown",
            "metadata": {},
            "source": "## 1. Introduction  \nVancouver is one of Canada's largest cities with many neighbourhoods. It's booming economy attract people of various cultural and socioeconomic backgrounds.   \nThe goal of this project is analyze the differences between neighbourhoods and help people determine if a neighbourhood is the right fit.  \n"
        },
        {
            "cell_type": "markdown",
            "metadata": {},
            "source": "## 2. Business Problem  \nPeople moving to Vancouver must choose a neighbourhood to live. This project will help narrow down which neighbourhood would be the best fit.  \nTourist may also find this useful as they can examine which neighbourhood have the attractions they wish to visit.\n"
        },
        {
            "cell_type": "markdown",
            "metadata": {},
            "source": "## 3. Data  \nUsing the Foursquare API and Wikipedia, we gather a dataset similar to that of week 3 of the IBM Coursera Capstone Project.  \nFoursquare will provide venue data while wikipedia will provide postal code, city and neighbourhood. \n\n### Wikipedia Data\nThe Wikipedia data was scraped from https://en.wikipedia.org/wiki/List_of_postal_codes_of_Canada:_V\n"
        },
        {
            "cell_type": "markdown",
            "metadata": {},
            "source": "## 4. Methodology"
        },
        {
            "cell_type": "markdown",
            "metadata": {},
            "source": "Vancouver was segmented into clusters to find similar neighbouhoods.  \nTo acheive this, the data was clustered using unsupervised machine learning by means of a k-means clustering algorithm."
        },
        {
            "cell_type": "markdown",
            "metadata": {},
            "source": "The most common Venues were found using K-mean Clustering by first finding the most common venues near each neighbourhood, this can be seen in the data (linked at the bottom of the report)"
        },
        {
            "cell_type": "markdown",
            "metadata": {},
            "source": "## 5. Results  \nsee map (last image of data) for clusters"
        },
        {
            "cell_type": "markdown",
            "metadata": {},
            "source": "## 6. Discussion  \nThe problem this project tackled is to help people search for the best neighbourhood to meet their needs when moving to Vancouver.  \nThis was done by separating neighbourhoods and analyzing their nearby venues, then clustering these neighbourhoods based on similarity.\nUltimately only 2 clusters appear in the final map, meaning the algorithm needs to be adjusted to smaller differences between neighbourhoods"
        },
        {
            "cell_type": "markdown",
            "metadata": {},
            "source": "## 7. Conclusion  \nThe data was separated into 10 clusters using a k-means clustering algorithm.  \nUnfortunetly all the data was ultimately separated into two clusters.  \nWhile this narrows down the search by half when looking to settle into Vancouver, this is still too large of an area.  \nThe k-means needs to be refined to provide more granular data. This is only a starting point for narrowing down a search."
        },
        {
            "cell_type": "code",
            "execution_count": null,
            "metadata": {},
            "outputs": [],
            "source": ""
        }
    ],
    "metadata": {
        "kernelspec": {
            "display_name": "Python 3.7",
            "language": "python",
            "name": "python3"
        },
        "language_info": {
            "codemirror_mode": {
                "name": "ipython",
                "version": 3
            },
            "file_extension": ".py",
            "mimetype": "text/x-python",
            "name": "python",
            "nbconvert_exporter": "python",
            "pygments_lexer": "ipython3",
            "version": "3.7.10"
        }
    },
    "nbformat": 4,
    "nbformat_minor": 1
}